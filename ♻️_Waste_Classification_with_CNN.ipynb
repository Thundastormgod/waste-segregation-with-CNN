{
  "metadata": {
    "kernelspec": {
      "language": "python",
      "display_name": "Python 3",
      "name": "python3"
    },
    "language_info": {
      "pygments_lexer": "ipython3",
      "nbconvert_exporter": "python",
      "version": "3.6.4",
      "file_extension": ".py",
      "codemirror_mode": {
        "name": "ipython",
        "version": 3
      },
      "name": "python",
      "mimetype": "text/x-python"
    },
    "colab": {
      "name": "♻️ Waste Classification with CNN",
      "provenance": []
    }
  },
  "nbformat_minor": 0,
  "nbformat": 4,
  "cells": [
    {
      "source": [
        "\n",
        "# IMPORTANT: RUN THIS CELL IN ORDER TO IMPORT YOUR KAGGLE DATA SOURCES\n",
        "# TO THE CORRECT LOCATION (/kaggle/input) IN YOUR NOTEBOOK,\n",
        "# THEN FEEL FREE TO DELETE THIS CELL.\n",
        "# NOTE: THIS NOTEBOOK ENVIRONMENT DIFFERS FROM KAGGLE'S PYTHON\n",
        "# ENVIRONMENT SO THERE MAY BE MISSING LIBRARIES USED BY YOUR\n",
        "# NOTEBOOK.\n",
        "\n",
        "import os\n",
        "import sys\n",
        "from tempfile import NamedTemporaryFile\n",
        "from urllib.request import urlopen\n",
        "from urllib.parse import unquote, urlparse\n",
        "from urllib.error import HTTPError\n",
        "from zipfile import ZipFile\n",
        "import tarfile\n",
        "import shutil\n",
        "\n",
        "CHUNK_SIZE = 40960\n",
        "DATA_SOURCE_MAPPING = 'waste-classification-data:https%3A%2F%2Fstorage.googleapis.com%2Fkaggle-data-sets%2F233210%2F497253%2Fbundle%2Farchive.zip%3FX-Goog-Algorithm%3DGOOG4-RSA-SHA256%26X-Goog-Credential%3Dgcp-kaggle-com%2540kaggle-161607.iam.gserviceaccount.com%252F20240729%252Fauto%252Fstorage%252Fgoog4_request%26X-Goog-Date%3D20240729T052650Z%26X-Goog-Expires%3D259200%26X-Goog-SignedHeaders%3Dhost%26X-Goog-Signature%3D801f4ad0ea2759cc57aaf359824610a7e543b96d936208d794664cf9993b3092f27741670195ea31df5d2315925b2fd201d7aee88df146ef88af04da0b9a4aef3eb400f68ef048877e153fa7e35e6991115f64d7d4bd6722bdba08a931fab806d2d9e04de90876597a3507446eeeeadb3a8741846d0802387a42c624f0d4d070bbdbdb13f226aedec30ef35718eec9c6e57692c72641c44bd7b1328439080cb979288edcba4a67eed0d84853e28b365850894a0c499a85659fceabb191c207e42191b88793d19a5f4fdda0a4722aa48ba2938e55ad35b24d97c5e5fd44d8dd6f9ace8f08e78b24aa0c6333c08a707fe52e14f94d8ac051129093b5538964b970'\n",
        "\n",
        "KAGGLE_INPUT_PATH='/kaggle/input'\n",
        "KAGGLE_WORKING_PATH='/kaggle/working'\n",
        "KAGGLE_SYMLINK='kaggle'\n",
        "\n",
        "!umount /kaggle/input/ 2> /dev/null\n",
        "shutil.rmtree('/kaggle/input', ignore_errors=True)\n",
        "os.makedirs(KAGGLE_INPUT_PATH, 0o777, exist_ok=True)\n",
        "os.makedirs(KAGGLE_WORKING_PATH, 0o777, exist_ok=True)\n",
        "\n",
        "try:\n",
        "  os.symlink(KAGGLE_INPUT_PATH, os.path.join(\"..\", 'input'), target_is_directory=True)\n",
        "except FileExistsError:\n",
        "  pass\n",
        "try:\n",
        "  os.symlink(KAGGLE_WORKING_PATH, os.path.join(\"..\", 'working'), target_is_directory=True)\n",
        "except FileExistsError:\n",
        "  pass\n",
        "\n",
        "for data_source_mapping in DATA_SOURCE_MAPPING.split(','):\n",
        "    directory, download_url_encoded = data_source_mapping.split(':')\n",
        "    download_url = unquote(download_url_encoded)\n",
        "    filename = urlparse(download_url).path\n",
        "    destination_path = os.path.join(KAGGLE_INPUT_PATH, directory)\n",
        "    try:\n",
        "        with urlopen(download_url) as fileres, NamedTemporaryFile() as tfile:\n",
        "            total_length = fileres.headers['content-length']\n",
        "            print(f'Downloading {directory}, {total_length} bytes compressed')\n",
        "            dl = 0\n",
        "            data = fileres.read(CHUNK_SIZE)\n",
        "            while len(data) > 0:\n",
        "                dl += len(data)\n",
        "                tfile.write(data)\n",
        "                done = int(50 * dl / int(total_length))\n",
        "                sys.stdout.write(f\"\\r[{'=' * done}{' ' * (50-done)}] {dl} bytes downloaded\")\n",
        "                sys.stdout.flush()\n",
        "                data = fileres.read(CHUNK_SIZE)\n",
        "            if filename.endswith('.zip'):\n",
        "              with ZipFile(tfile) as zfile:\n",
        "                zfile.extractall(destination_path)\n",
        "            else:\n",
        "              with tarfile.open(tfile.name) as tarfile:\n",
        "                tarfile.extractall(destination_path)\n",
        "            print(f'\\nDownloaded and uncompressed: {directory}')\n",
        "    except HTTPError as e:\n",
        "        print(f'Failed to load (likely expired) {download_url} to path {destination_path}')\n",
        "        continue\n",
        "    except OSError as e:\n",
        "        print(f'Failed to load {download_url} to path {destination_path}')\n",
        "        continue\n",
        "\n",
        "print('Data source import complete.')\n"
      ],
      "metadata": {
        "id": "pHjtVePQ9L5a"
      },
      "cell_type": "code",
      "outputs": [],
      "execution_count": null
    },
    {
      "cell_type": "markdown",
      "source": [
        "# 📌 Introduction\n",
        "\n",
        "![image.png](attachment:ecafcddb-f01b-47ac-b38e-1cd964b2b971.png)\n",
        "\n",
        "Waste is a significant global issue. Increasing volumes of waste are being generated as the global population and living standards rise. People are increasingly concerned about the production of waste and its effect, and are seeking ways to deal with the problem.\n",
        "\n",
        "Recycling is the process of converting waste materials into new materials and objects. The recovery of energy from waste materials is often included in this concept. The recyclability of a material depends on its ability to reacquire the properties it had in its original state. It is an alternative to \"conventional\" waste disposal that can save material and help lower greenhouse gas emissions. Recycling can prevent the waste of potentially useful materials and reduce the consumption of fresh raw materials, thereby reducing: energy usage, air pollution (from incineration), and water pollution (from landfilling).\n",
        "\n",
        " **🟢 In this notebook, we will classify waste as organic or recyclable using Convolutional Neural Network (CNN).**"
      ],
      "metadata": {
        "id": "I9WS-07G9L5e"
      }
    },
    {
      "cell_type": "code",
      "source": [
        "import numpy as np\n",
        "import pandas as pd\n",
        "import matplotlib.pyplot as plt\n",
        "from tqdm import tqdm\n",
        "import cv2\n",
        "\n",
        "import warnings\n",
        "warnings.filterwarnings('ignore')\n",
        "import os\n",
        "for dirname, _, _ in os.walk('/kaggle/input'):\n",
        "        print(dirname)"
      ],
      "metadata": {
        "_uuid": "8f2839f25d086af736a60e9eeb907d3b93b6e0e5",
        "_cell_guid": "b1076dfc-b9ad-4769-8c92-a6c4dae69d19",
        "execution": {
          "iopub.status.busy": "2022-07-07T20:14:17.763326Z",
          "iopub.execute_input": "2022-07-07T20:14:17.763773Z",
          "iopub.status.idle": "2022-07-07T20:14:28.063021Z",
          "shell.execute_reply.started": "2022-07-07T20:14:17.763727Z",
          "shell.execute_reply": "2022-07-07T20:14:28.06201Z"
        },
        "trusted": true,
        "id": "q3R7sMmE9L5g"
      },
      "execution_count": null,
      "outputs": []
    },
    {
      "cell_type": "code",
      "source": [
        "train_path = \"/kaggle/input/waste-classification-data/DATASET/TRAIN/\"\n",
        "test_path = \"/kaggle/input/waste-classification-data/DATASET/TEST/\""
      ],
      "metadata": {
        "execution": {
          "iopub.status.busy": "2022-07-07T20:14:28.064699Z",
          "iopub.execute_input": "2022-07-07T20:14:28.065093Z",
          "iopub.status.idle": "2022-07-07T20:14:28.068698Z",
          "shell.execute_reply.started": "2022-07-07T20:14:28.065057Z",
          "shell.execute_reply": "2022-07-07T20:14:28.067906Z"
        },
        "trusted": true,
        "id": "OokDXbfK9L5h"
      },
      "execution_count": null,
      "outputs": []
    },
    {
      "cell_type": "markdown",
      "source": [
        "## Import Libraries"
      ],
      "metadata": {
        "id": "l0x_sYN09L5i"
      }
    },
    {
      "cell_type": "code",
      "source": [
        "from keras.models import Sequential\n",
        "from keras.layers import Conv2D, MaxPooling2D, Activation, Dropout, Flatten, Dense, BatchNormalization\n",
        "from keras.preprocessing.image import ImageDataGenerator, img_to_array, load_img\n",
        "from keras.utils.vis_utils import plot_model\n",
        "from glob import glob"
      ],
      "metadata": {
        "execution": {
          "iopub.status.busy": "2022-07-07T20:14:28.070414Z",
          "iopub.execute_input": "2022-07-07T20:14:28.070892Z",
          "iopub.status.idle": "2022-07-07T20:14:28.086113Z",
          "shell.execute_reply.started": "2022-07-07T20:14:28.070856Z",
          "shell.execute_reply": "2022-07-07T20:14:28.085286Z"
        },
        "trusted": true,
        "id": "QwtB_JiT9L5j"
      },
      "execution_count": null,
      "outputs": []
    },
    {
      "cell_type": "markdown",
      "source": [
        "## Visualization"
      ],
      "metadata": {
        "id": "IUPkCJD19L5j"
      }
    },
    {
      "cell_type": "code",
      "source": [
        "x_data = []\n",
        "y_data = []\n",
        "\n",
        "for category in glob(train_path+'/*'):\n",
        "    for file in tqdm(glob(category+'/*')):\n",
        "        img_array=cv2.imread(file)\n",
        "        img_array = cv2.cvtColor(img_array, cv2.COLOR_BGR2RGB)\n",
        "        x_data.append(img_array)\n",
        "        y_data.append(category.split(\"/\")[-1])\n",
        "\n",
        "data=pd.DataFrame({'image': x_data,'label': y_data})"
      ],
      "metadata": {
        "execution": {
          "iopub.status.busy": "2022-07-07T20:14:28.088449Z",
          "iopub.execute_input": "2022-07-07T20:14:28.088939Z",
          "iopub.status.idle": "2022-07-07T20:15:18.908616Z",
          "shell.execute_reply.started": "2022-07-07T20:14:28.088902Z",
          "shell.execute_reply": "2022-07-07T20:15:18.907572Z"
        },
        "trusted": true,
        "id": "DPlGPI7d9L5k"
      },
      "execution_count": null,
      "outputs": []
    },
    {
      "cell_type": "code",
      "source": [
        "data.shape"
      ],
      "metadata": {
        "execution": {
          "iopub.status.busy": "2022-07-07T20:15:18.910259Z",
          "iopub.execute_input": "2022-07-07T20:15:18.910743Z",
          "iopub.status.idle": "2022-07-07T20:15:18.917373Z",
          "shell.execute_reply.started": "2022-07-07T20:15:18.910696Z",
          "shell.execute_reply": "2022-07-07T20:15:18.916389Z"
        },
        "trusted": true,
        "id": "vk1RWJo99L5l"
      },
      "execution_count": null,
      "outputs": []
    },
    {
      "cell_type": "code",
      "source": [
        "from collections import Counter\n",
        "Counter(y_data)"
      ],
      "metadata": {
        "execution": {
          "iopub.status.busy": "2022-07-07T20:15:18.918856Z",
          "iopub.execute_input": "2022-07-07T20:15:18.919506Z",
          "iopub.status.idle": "2022-07-07T20:15:18.932111Z",
          "shell.execute_reply.started": "2022-07-07T20:15:18.919449Z",
          "shell.execute_reply": "2022-07-07T20:15:18.93106Z"
        },
        "trusted": true,
        "id": "ZKtyGHYk9L5l"
      },
      "execution_count": null,
      "outputs": []
    },
    {
      "cell_type": "code",
      "source": [
        "colors = ['#a0d157','#c48bb8']\n",
        "plt.pie(data.label.value_counts(),startangle=90,explode=[0.05,0.05],autopct='%0.2f%%',\n",
        "        labels=['Organic', 'Recyclable'], colors= colors,radius=2)\n",
        "plt.show()"
      ],
      "metadata": {
        "execution": {
          "iopub.status.busy": "2022-07-07T20:15:18.933562Z",
          "iopub.execute_input": "2022-07-07T20:15:18.93398Z",
          "iopub.status.idle": "2022-07-07T20:15:19.033682Z",
          "shell.execute_reply.started": "2022-07-07T20:15:18.933933Z",
          "shell.execute_reply": "2022-07-07T20:15:19.032785Z"
        },
        "trusted": true,
        "id": "awEaX_b79L5m"
      },
      "execution_count": null,
      "outputs": []
    },
    {
      "cell_type": "code",
      "source": [
        "plt.figure(figsize=(20,15))\n",
        "for i in range(9):\n",
        "    plt.subplot(4,3,(i%12)+1)\n",
        "    index=np.random.randint(15000)\n",
        "    plt.title('This image is of {0}'.format(data.label[index]),fontdict={'size':20,'weight':'bold'})\n",
        "    plt.imshow(data.image[index])\n",
        "    plt.tight_layout()"
      ],
      "metadata": {
        "execution": {
          "iopub.status.busy": "2022-07-07T20:15:19.036207Z",
          "iopub.execute_input": "2022-07-07T20:15:19.036743Z",
          "iopub.status.idle": "2022-07-07T20:15:21.567128Z",
          "shell.execute_reply.started": "2022-07-07T20:15:19.036703Z",
          "shell.execute_reply": "2022-07-07T20:15:21.566315Z"
        },
        "trusted": true,
        "id": "C-1P8LPn9L5m"
      },
      "execution_count": null,
      "outputs": []
    },
    {
      "cell_type": "markdown",
      "source": [
        "* O -> Organic\n",
        "* R -> Recyclable"
      ],
      "metadata": {
        "id": "O4iGhc_M9L5m"
      }
    },
    {
      "cell_type": "code",
      "source": [
        "className = glob(train_path + '/*' )\n",
        "numberOfClass = len(className)\n",
        "print(\"Number Of Class: \",numberOfClass)"
      ],
      "metadata": {
        "execution": {
          "iopub.status.busy": "2022-07-07T20:15:21.56868Z",
          "iopub.execute_input": "2022-07-07T20:15:21.569137Z",
          "iopub.status.idle": "2022-07-07T20:15:21.575542Z",
          "shell.execute_reply.started": "2022-07-07T20:15:21.569104Z",
          "shell.execute_reply": "2022-07-07T20:15:21.574392Z"
        },
        "trusted": true,
        "id": "bAmohCrL9L5n"
      },
      "execution_count": null,
      "outputs": []
    },
    {
      "cell_type": "markdown",
      "source": [
        "# Convolutional Neural Network - CNN"
      ],
      "metadata": {
        "id": "3A-xlx259L5n"
      }
    },
    {
      "cell_type": "code",
      "source": [
        "model = Sequential()\n",
        "model.add(Conv2D(32,(3,3),input_shape = (224,224,3)))\n",
        "model.add(Activation(\"relu\"))\n",
        "model.add(MaxPooling2D())\n",
        "\n",
        "model.add(Conv2D(64,(3,3)))\n",
        "model.add(Activation(\"relu\"))\n",
        "model.add(MaxPooling2D())\n",
        "\n",
        "model.add(Conv2D(128,(3,3)))\n",
        "model.add(Activation(\"relu\"))\n",
        "model.add(MaxPooling2D())\n",
        "\n",
        "model.add(Flatten())\n",
        "model.add(Dense(256))\n",
        "model.add(Activation(\"relu\"))\n",
        "model.add(Dropout(0.5))\n",
        "model.add(Dense(64))\n",
        "model.add(Activation(\"relu\"))\n",
        "model.add(Dropout(0.5))\n",
        "model.add(Dense(numberOfClass)) # output\n",
        "model.add(Activation(\"sigmoid\"))\n",
        "\n",
        "model.compile(loss = \"binary_crossentropy\",\n",
        "              optimizer = \"adam\",\n",
        "              metrics = [\"accuracy\"])\n",
        "\n",
        "batch_size = 256"
      ],
      "metadata": {
        "execution": {
          "iopub.status.busy": "2022-07-07T20:15:21.576944Z",
          "iopub.execute_input": "2022-07-07T20:15:21.57734Z",
          "iopub.status.idle": "2022-07-07T20:15:21.685395Z",
          "shell.execute_reply.started": "2022-07-07T20:15:21.577305Z",
          "shell.execute_reply": "2022-07-07T20:15:21.684518Z"
        },
        "trusted": true,
        "id": "WJAy_6Sr9L5o"
      },
      "execution_count": null,
      "outputs": []
    },
    {
      "cell_type": "code",
      "source": [
        "plot_model(model)"
      ],
      "metadata": {
        "execution": {
          "iopub.status.busy": "2022-07-07T20:15:21.686771Z",
          "iopub.execute_input": "2022-07-07T20:15:21.687147Z",
          "iopub.status.idle": "2022-07-07T20:15:22.120239Z",
          "shell.execute_reply.started": "2022-07-07T20:15:21.687109Z",
          "shell.execute_reply": "2022-07-07T20:15:22.119222Z"
        },
        "trusted": true,
        "id": "EJFXaV309L5o"
      },
      "execution_count": null,
      "outputs": []
    },
    {
      "cell_type": "code",
      "source": [
        "train_datagen = ImageDataGenerator(rescale= 1./255)"
      ],
      "metadata": {
        "execution": {
          "iopub.status.busy": "2022-07-07T20:15:22.122082Z",
          "iopub.execute_input": "2022-07-07T20:15:22.122757Z",
          "iopub.status.idle": "2022-07-07T20:15:22.128132Z",
          "shell.execute_reply.started": "2022-07-07T20:15:22.122713Z",
          "shell.execute_reply": "2022-07-07T20:15:22.127343Z"
        },
        "trusted": true,
        "id": "ZuXaCBCS9L5o"
      },
      "execution_count": null,
      "outputs": []
    },
    {
      "cell_type": "code",
      "source": [
        "test_datagen = ImageDataGenerator(rescale= 1./255)"
      ],
      "metadata": {
        "execution": {
          "iopub.status.busy": "2022-07-07T20:15:22.129778Z",
          "iopub.execute_input": "2022-07-07T20:15:22.130147Z",
          "iopub.status.idle": "2022-07-07T20:15:22.141981Z",
          "shell.execute_reply.started": "2022-07-07T20:15:22.130109Z",
          "shell.execute_reply": "2022-07-07T20:15:22.140952Z"
        },
        "trusted": true,
        "id": "voZ84JYr9L5o"
      },
      "execution_count": null,
      "outputs": []
    },
    {
      "cell_type": "code",
      "source": [
        "train_generator = train_datagen.flow_from_directory(\n",
        "        train_path,\n",
        "        target_size= (224,224),\n",
        "        batch_size = batch_size,\n",
        "        color_mode= \"rgb\",\n",
        "        class_mode= \"categorical\")\n",
        "\n",
        "test_generator = test_datagen.flow_from_directory(\n",
        "        test_path,\n",
        "        target_size= (224,224),\n",
        "        batch_size = batch_size,\n",
        "        color_mode= \"rgb\",\n",
        "        class_mode= \"categorical\")"
      ],
      "metadata": {
        "execution": {
          "iopub.status.busy": "2022-07-07T20:15:22.143172Z",
          "iopub.execute_input": "2022-07-07T20:15:22.143836Z",
          "iopub.status.idle": "2022-07-07T20:15:23.039088Z",
          "shell.execute_reply.started": "2022-07-07T20:15:22.14379Z",
          "shell.execute_reply": "2022-07-07T20:15:23.038099Z"
        },
        "trusted": true,
        "id": "3eI9B-tg9L5p"
      },
      "execution_count": null,
      "outputs": []
    },
    {
      "cell_type": "code",
      "source": [
        "hist = model.fit_generator(\n",
        "        generator = train_generator,\n",
        "        epochs=10,\n",
        "        validation_data = test_generator)"
      ],
      "metadata": {
        "execution": {
          "iopub.status.busy": "2022-07-07T20:15:23.040515Z",
          "iopub.execute_input": "2022-07-07T20:15:23.040859Z",
          "iopub.status.idle": "2022-07-07T20:32:31.866696Z",
          "shell.execute_reply.started": "2022-07-07T20:15:23.040821Z",
          "shell.execute_reply": "2022-07-07T20:32:31.865801Z"
        },
        "trusted": true,
        "id": "uu_9I8089L5p"
      },
      "execution_count": null,
      "outputs": []
    },
    {
      "cell_type": "code",
      "source": [
        "plt.figure(figsize=[10,6])\n",
        "plt.plot(hist.history[\"accuracy\"], label = \"Train acc\")\n",
        "plt.plot(hist.history[\"val_accuracy\"], label = \"Validation acc\")\n",
        "plt.legend()\n",
        "plt.show()"
      ],
      "metadata": {
        "execution": {
          "iopub.status.busy": "2022-07-07T20:32:31.868328Z",
          "iopub.execute_input": "2022-07-07T20:32:31.868772Z",
          "iopub.status.idle": "2022-07-07T20:32:32.123347Z",
          "shell.execute_reply.started": "2022-07-07T20:32:31.868721Z",
          "shell.execute_reply": "2022-07-07T20:32:32.122325Z"
        },
        "trusted": true,
        "id": "rFcabAGN9L5p"
      },
      "execution_count": null,
      "outputs": []
    },
    {
      "cell_type": "code",
      "source": [
        "plt.figure(figsize=(10,6))\n",
        "plt.plot(hist.history['loss'], label = \"Train loss\")\n",
        "plt.plot(hist.history['val_loss'], label = \"Validation loss\")\n",
        "plt.legend()\n",
        "plt.show()"
      ],
      "metadata": {
        "execution": {
          "iopub.status.busy": "2022-07-07T20:32:32.12494Z",
          "iopub.execute_input": "2022-07-07T20:32:32.125577Z",
          "iopub.status.idle": "2022-07-07T20:32:32.359597Z",
          "shell.execute_reply.started": "2022-07-07T20:32:32.125535Z",
          "shell.execute_reply": "2022-07-07T20:32:32.357652Z"
        },
        "trusted": true,
        "id": "ILE8biLK9L5p"
      },
      "execution_count": null,
      "outputs": []
    },
    {
      "cell_type": "markdown",
      "source": [
        "## Model Prediction"
      ],
      "metadata": {
        "id": "vSFoipEg9L5p"
      }
    },
    {
      "cell_type": "code",
      "source": [
        "def predict_func(img):\n",
        "    plt.figure(figsize=(6,4))\n",
        "    plt.imshow(cv2.cvtColor(img, cv2.COLOR_BGR2RGB))\n",
        "    plt.tight_layout()\n",
        "    img = cv2.resize(img, (224, 224))\n",
        "    img = np.reshape(img, [-1, 224, 224,3])\n",
        "    result = np.argmax(model.predict(img))\n",
        "    if result == 0: print(\"\\033[94m\"+\"This image -> Recyclable\"+\"\\033[0m\")\n",
        "    elif result ==1: print(\"\\033[94m\"+\"This image -> Organic\"+\"\\033[0m\")"
      ],
      "metadata": {
        "execution": {
          "iopub.status.busy": "2022-07-07T21:34:46.884087Z",
          "iopub.execute_input": "2022-07-07T21:34:46.884453Z",
          "iopub.status.idle": "2022-07-07T21:34:46.890588Z",
          "shell.execute_reply.started": "2022-07-07T21:34:46.884421Z",
          "shell.execute_reply": "2022-07-07T21:34:46.889375Z"
        },
        "trusted": true,
        "id": "8bnXcRzU9L5p"
      },
      "execution_count": null,
      "outputs": []
    },
    {
      "cell_type": "code",
      "source": [
        "test_img = cv2.imread(\"/kaggle/input/waste-classification-data/DATASET/TEST/O/O_12573.jpg\")\n",
        "predict_func(test_img)"
      ],
      "metadata": {
        "execution": {
          "iopub.status.busy": "2022-07-07T21:34:53.518575Z",
          "iopub.execute_input": "2022-07-07T21:34:53.518931Z",
          "iopub.status.idle": "2022-07-07T21:34:53.855728Z",
          "shell.execute_reply.started": "2022-07-07T21:34:53.518897Z",
          "shell.execute_reply": "2022-07-07T21:34:53.854677Z"
        },
        "trusted": true,
        "id": "YU0fPz8i9L5q"
      },
      "execution_count": null,
      "outputs": []
    },
    {
      "cell_type": "code",
      "source": [
        "test_img = cv2.imread(\"/kaggle/input/waste-classification-data/DATASET/TEST/R/R_10753.jpg\")\n",
        "predict_func(test_img)"
      ],
      "metadata": {
        "execution": {
          "iopub.status.busy": "2022-07-07T21:35:02.38378Z",
          "iopub.execute_input": "2022-07-07T21:35:02.384144Z",
          "iopub.status.idle": "2022-07-07T21:35:02.680298Z",
          "shell.execute_reply.started": "2022-07-07T21:35:02.384109Z",
          "shell.execute_reply": "2022-07-07T21:35:02.679291Z"
        },
        "trusted": true,
        "id": "lgusDZes9L5q"
      },
      "execution_count": null,
      "outputs": []
    }
  ]
}